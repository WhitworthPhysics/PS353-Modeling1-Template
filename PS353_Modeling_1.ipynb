{
  "nbformat": 4,
  "nbformat_minor": 0,
  "metadata": {
    "colab": {
      "name": "PS353-Modeling 1.ipynb",
      "provenance": [],
      "collapsed_sections": [
        "NVqyxtlG2jE2",
        "o8oAnc812efF",
        "tMujcc7m3ZoV",
        "VDit3UFf33B6",
        "O_tQPzyr43xS"
      ],
      "authorship_tag": "ABX9TyNJ5oart1yoxFNn3nigfogh"
    },
    "kernelspec": {
      "name": "python3",
      "display_name": "Python 3"
    },
    "language_info": {
      "name": "python"
    }
  },
  "cells": [
    {
      "cell_type": "markdown",
      "source": [
        "# Common"
      ],
      "metadata": {
        "id": "NVqyxtlG2jE2"
      }
    },
    {
      "cell_type": "code",
      "source": [
        "!pip install whit-phys-util 1>/dev/null"
      ],
      "metadata": {
        "id": "8zXwOT-e5IIi"
      },
      "execution_count": null,
      "outputs": []
    },
    {
      "cell_type": "code",
      "execution_count": null,
      "metadata": {
        "id": "qa-K1ejE2RPo"
      },
      "outputs": [],
      "source": [
        "import numpy as np\n",
        "import matplotlib.pyplot as plt\n",
        "import whit_phys_util as buc\n",
        "from scipy.integrate import solve_ivp"
      ]
    },
    {
      "cell_type": "code",
      "source": [
        "m = 70     # mass of parachutist in kg\n",
        "g = 9.8    # acceleration due to gravity (at sea level) in m/s^2\n",
        "y0 = 32000 # initial height\n",
        "v0 = 0     # initial speed"
      ],
      "metadata": {
        "id": "vB0fDsWl2adI"
      },
      "execution_count": null,
      "outputs": []
    },
    {
      "cell_type": "code",
      "source": [
        "def hit_ground(t, w):\n",
        "  return w[0]\n",
        "hit_ground.terminal = True\n",
        "hit_ground.direction = -1"
      ],
      "metadata": {
        "id": "6od93v5Z2gTt"
      },
      "execution_count": null,
      "outputs": []
    },
    {
      "cell_type": "markdown",
      "source": [
        "# Exercise 1: A Terrible, Horrible, No Good, Very Bad Day\n",
        "\n",
        "Free fall from 32 km up"
      ],
      "metadata": {
        "id": "o8oAnc812efF"
      }
    },
    {
      "cell_type": "code",
      "source": [
        "def dwdt1(t, w):\n",
        "  y = w[0]\n",
        "  v = w[1]\n",
        "  return [v, -g]"
      ],
      "metadata": {
        "id": "QPkQ3Z0H2fVw"
      },
      "execution_count": null,
      "outputs": []
    },
    {
      "cell_type": "code",
      "source": [
        "sol1 = solve_ivp(dwdt1, [0, 100], [y0, v0], events=hit_ground, dense_output=True)"
      ],
      "metadata": {
        "id": "MwRRV1Nd3Ib6"
      },
      "execution_count": null,
      "outputs": []
    },
    {
      "cell_type": "markdown",
      "source": [
        "# Exercise 2: A Terrible, Horrible, No Good Day\n",
        "\n",
        "Modify to include reduction in gravity with altitude"
      ],
      "metadata": {
        "id": "tMujcc7m3ZoV"
      }
    },
    {
      "cell_type": "code",
      "source": [
        "def dwdt2(t, w):\n",
        "  y = w[0]\n",
        "  v = w[1]\n",
        "  # you need to finish this function..."
      ],
      "metadata": {
        "id": "i2bUP_Bs3oYP"
      },
      "execution_count": null,
      "outputs": []
    },
    {
      "cell_type": "code",
      "source": [
        "# Find solution and time of impact"
      ],
      "metadata": {
        "id": "q_xyGVND4nsS"
      },
      "execution_count": null,
      "outputs": []
    },
    {
      "cell_type": "code",
      "source": [
        "# Find y and v. Plot them"
      ],
      "metadata": {
        "id": "MhNT13DO-Qh4"
      },
      "execution_count": null,
      "outputs": []
    },
    {
      "cell_type": "code",
      "source": [
        "# Find a. Plot a vs. t.\n",
        "a2 = dwdt2(t2, w2)"
      ],
      "metadata": {
        "id": "KeKUTcZj-Ud5"
      },
      "execution_count": null,
      "outputs": []
    },
    {
      "cell_type": "markdown",
      "source": [
        "## Reflection on results"
      ],
      "metadata": {
        "id": "ilG1VxvJ4oTJ"
      }
    },
    {
      "cell_type": "markdown",
      "source": [
        "# Exercise 3: A Terrible Day\n",
        "\n",
        "Modify to include air drag"
      ],
      "metadata": {
        "id": "VDit3UFf33B6"
      }
    },
    {
      "cell_type": "code",
      "source": [
        ""
      ],
      "metadata": {
        "id": "2D_cN_VQ38D3"
      },
      "execution_count": null,
      "outputs": []
    },
    {
      "cell_type": "markdown",
      "source": [
        "## Reflection on results"
      ],
      "metadata": {
        "id": "aXYTCn4u4icY"
      }
    },
    {
      "cell_type": "code",
      "source": [
        ""
      ],
      "metadata": {
        "id": "sZbYQEF_4x27"
      },
      "execution_count": null,
      "outputs": []
    },
    {
      "cell_type": "markdown",
      "source": [
        "# Exercise 4: A Terrible, Horrible Day\n",
        "\n",
        "Density of air also changes with altitude"
      ],
      "metadata": {
        "id": "O_tQPzyr43xS"
      }
    },
    {
      "cell_type": "code",
      "source": [
        ""
      ],
      "metadata": {
        "id": "kgLuqujZ4_fq"
      },
      "execution_count": null,
      "outputs": []
    },
    {
      "cell_type": "markdown",
      "source": [
        "## Reflection on results"
      ],
      "metadata": {
        "id": "eHN2USIh5AQ8"
      }
    },
    {
      "cell_type": "code",
      "source": [
        ""
      ],
      "metadata": {
        "id": "Aw_X2xjl5Cu0"
      },
      "execution_count": null,
      "outputs": []
    }
  ]
}
